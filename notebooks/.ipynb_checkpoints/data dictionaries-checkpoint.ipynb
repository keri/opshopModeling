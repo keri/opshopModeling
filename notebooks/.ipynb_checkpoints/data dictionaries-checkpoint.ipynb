{
 "cells": [
  {
   "cell_type": "code",
   "execution_count": 2,
   "metadata": {
    "collapsed": true
   },
   "outputs": [],
   "source": [
    "import pandas as pd\n",
    "import matplotlib.colors as mcolors"
   ]
  },
  {
   "cell_type": "code",
   "execution_count": null,
   "metadata": {
    "collapsed": true
   },
   "outputs": [],
   "source": [
    "#weaves = {'plain': '', 'oxford': '', 'twill': '','satin': '', 'herringbone','', 'dobby': ''}\n",
    "colordict = mcolors.cnames\n",
    "\n",
    "fabriclist = [\"acetate\",\"antron\",\"bamboo\",\"bisso\",\"blend\",\"boiled wool\",\"boucle\",\"carbon-infused\",\n",
    "\"charmeuse\",\"chenille\",\"chiffon\",\"chino\",\"chintz\",\"combed\",\"coolmax\",\"corduroy\",\"cord\",\"cotton\",\n",
    "\"lisle\",\"damask\",\"double\",\"ecosil\",\"polyester\",\"egyptian\",\"elastane\",\"eyelet\",\"faille\",\"fiberfill\",\"french\",\"gaberdine\",\"hemp\",\"hydrophilic\",\n",
    "\"hydrophobic\",\"interlock\",\"italian\",\"jacquard\",\"jersey\",\"knit\",\"lace\",\"lame\",\"latex\",\"linen\",\"lining\",\"lycra\",\"lyocell\",\n",
    "\"memory\",\"foam\",\"mercerised\",\"mercerized\",\"merino\",\"mesh\",\"micro\",\"modal\",\"microfiber\",\"microfibre\",\"microfleece\",\n",
    "\"fleece\",\"neoprene\",\"nylon\",\"olefin\",\"panne\",\"peau de soie\",\"peruvian\",\"pima\",\"pique\",\"polyamide\",\"polyester\",\n",
    "\"powernet\",\"rayon\",\"rib\",\"sanforized\",\"satin\",\"sateen\",\"silicone\",\"silk\",\"soy\",\"spandex\",\"spannette\",\"supima\",\n",
    "\"supplex\",\"tactel\",\"tencel\",\"themastat\",\"tricot\",\"velour\",\"velvet\",\"viscose\",\"vinyl\",\"wool\",\"woven\",\"x-static\"]\n",
    "\n",
    "#culling the fabrics if they aren't in this fabric dictionary\n",
    "fabricdict = {i : '' for i in fabriclist}\n",
    "\n",
    "carbon_per_kg = {'polyester': 9.52, 'cotton_conv':5.90, 'hemp_conv':4.05, 'cotton_org_india': 3.80, \n",
    "                     'cotton_org_US': 2.35}\n",
    "\n",
    "condition = ['new','lnew','worn','vworn']\n",
    "\n",
    "market = ['student','teen','male','female','professional','parent','child','preteen','older']\n",
    "\n",
    "longevity = ['high','medium','low']\n",
    "\n",
    "quality = ['high','medium','low']\n",
    "\n",
    "retailer = ['consignment','opshop','new']\n",
    "\n",
    "care_instruct = {\"gentle\":['merino'], \"handwash\":['spandex','wool','acetate','linen','vinyl'], \n",
    "                 \"dryclean\":['wool','silk','lace','velvet','jacquard','suede','leather','cashmere','alpaca']}\n",
    "\n",
    "fabric_type = {'synthetic':['Polyester', 'nylon', 'spandex', 'acrylic', 'acetate']}\n",
    "\n",
    "organic = ['yes','no']\n",
    "\n",
    "\n",
    "\n",
    "\n"
   ]
  },
  {
   "cell_type": "code",
   "execution_count": null,
   "metadata": {
    "collapsed": true
   },
   "outputs": [],
   "source": [
    "biography = ['https://oecotextiles.wordpress.com/2011/01/19/estimating-the-carbon-footprint-of-a-fabric/',]"
   ]
  }
 ],
 "metadata": {
  "kernelspec": {
   "display_name": "Python 3",
   "language": "python",
   "name": "python3"
  },
  "language_info": {
   "codemirror_mode": {
    "name": "ipython",
    "version": 3
   },
   "file_extension": ".py",
   "mimetype": "text/x-python",
   "name": "python",
   "nbconvert_exporter": "python",
   "pygments_lexer": "ipython3",
   "version": "3.6.7"
  }
 },
 "nbformat": 4,
 "nbformat_minor": 2
}
